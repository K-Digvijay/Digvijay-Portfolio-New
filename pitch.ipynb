{
 "cells": [
  {
   "cell_type": "markdown",
   "id": "33cc7f2d",
   "metadata": {},
   "source": [
    "Hi, I’m Digvijay Kewale.  \n",
    "I’m currently working as an **Associate Engineer – II at Capgemini Engineering**, where I’ve transitioned into **Data Science and AI/ML initiatives**.  \n",
    "\n",
    "In the last 2 years, I’ve worked on **end-to-end ML pipelines** – handling **data preprocessing, model building, analytics dashboards, and deployment** using tools like **Python, Pandas, SQL, Power BI, TensorFlow, Flask, and Docker**.  \n"
   ]
  },
  {
   "cell_type": "markdown",
   "id": "f76af29e",
   "metadata": {},
   "source": [
    "Although I started my career as a **Mechanical Engineer**, I was always fascinated by **data-driven problem solving**.  \n",
    "This motivated me to reskill myself and move into **Data Science and AI**.  \n",
    "\n",
    "Currently, I’m pursuing my **M.Tech in Data Science & Machine Learning at PES University, Bangalore (2024–2026)**,  \n",
    "which is helping me strengthen my theoretical knowledge while applying it in real-world projects.  \n"
   ]
  },
  {
   "cell_type": "markdown",
   "id": "98a1dd75",
   "metadata": {},
   "source": [
    "Alongside my professional work, I’ve built several hands-on projects:  \n",
    "\n",
    "- **Customer360 Recommendation System** → A hybrid recommender combining **K-Means clustering** and **SVD collaborative filtering**, with plans to integrate **FAISS + BERT embeddings** for large-scale, semantic recommendations.  \n",
    "\n",
    "- **Real vs Fake Image Detection** → A **Streamlit app** using **DenseNet121 transfer learning**, achieving 68% accuracy in detecting AI-generated vs real images.  \n",
    "\n",
    "- **Forest Fire Prediction** → Logistic Regression-based binary classifier deployed with Flask to predict fire occurrence using environmental parameters.  \n",
    "\n",
    "- **Hackathon Project: Sahayak AI (Google Cloud Hackathon)** →  \n",
    "   - Built an **AI-powered teaching assistant** for Indian classrooms.  \n",
    "   - Leveraged **Gemini API + Dialogflow ES** for intelligent teacher-student interaction.  \n",
    "   - Used **Firebase Authentication & Firestore** for secure student data storage.  \n",
    "   - React Dashboard frontend + scalable Google Cloud Functions backend.  \n",
    "   - Enabled teachers to detect student struggles **40% faster** through automated insights.  \n"
   ]
  },
  {
   "cell_type": "markdown",
   "id": "71686eb7",
   "metadata": {},
   "source": [
    "My core strengths are:  \n",
    "- **Designing scalable ML solutions** end-to-end.  \n",
    "- **Bridging the gap** between technical solutions and business needs.  \n",
    "- Strong **collaboration** across design, analytics, and engineering teams.  \n",
    "\n",
    "I’m now looking forward to contributing as a **Data Scientist / AI Engineer** in a **product-driven company**,  \n",
    "where I can apply my Data Science, AI/ML, and GenAI expertise to build impactful, data-driven solutions.  \n"
   ]
  },
  {
   "cell_type": "markdown",
   "id": "7bf4aa7a",
   "metadata": {},
   "source": [
    "---"
   ]
  },
  {
   "cell_type": "markdown",
   "id": "eb30de51",
   "metadata": {},
   "source": [
    "Hi, I’m Digvijay Kewale. I have around 2 years of professional experience, \n",
    "currently working as an Associate Engineer – II at Capgemini Engineering in Bangalore. \n",
    "Here, I have transitioned into Data Science and AI/ML initiatives, where I design and deploy \n",
    "end-to-end machine learning pipelines — from data preprocessing and model building to deployment \n",
    "using Flask, Streamlit, and Docker. I also work with analytics tools like Power BI and SQL to deliver \n",
    "insights that improve business decision-making.  \n",
    "\n",
    "Before this, I worked at Sutra Systems as a Design Engineer, where I handled large engineering \n",
    "assemblies and documentation for Airbus and Boeing projects. This mechanical background taught me \n",
    "problem-solving, precision, and process discipline, which I now apply to Data Science.  \n",
    "\n",
    "On the academic side, I’m currently pursuing my **M.Tech in Data Science and Machine Learning at PES University**, \n",
    "where I’m deepening my expertise in machine learning, deep learning, and GenAI. I also hold a **Bachelor’s degree \n",
    "in Mechanical Engineering from RTMNU Nagpur University**.  \n",
    "\n",
    "Outside of work and academics, I enjoy participating in hackathons. Recently, I built **Sahayak AI**, \n",
    "an AI-powered teaching assistant for the **Google Cloud Agentic AI Hackathon**, leveraging Gemini API, \n",
    "Dialogflow, Firebase, and React to empower teachers with data-driven insights. I also like working on \n",
    "projects such as recommendation systems, image classification with transfer learning, and predictive analytics.  \n",
    "\n",
    "Beyond technology, my hobbies include **exploring new tech tools, playing videogames, and learning new things**, \n",
    "which helps me stay creative and refreshed.  \n",
    "\n",
    "Overall, I’d describe myself as a professional who bridges engineering discipline with modern \n",
    "Data Science and AI skills, passionate about building impactful, scalable solutions. \n",
    "I’m now looking forward to contributing in a Data Science / AI Engineer role in a \n",
    "product-based company where I can apply my skills to solve real-world problems.\n"
   ]
  },
  {
   "cell_type": "markdown",
   "id": "79756c66",
   "metadata": {},
   "source": [
    "----------------------"
   ]
  },
  {
   "cell_type": "markdown",
   "id": "e101b9bd",
   "metadata": {},
   "source": [
    "When asked: \"What is your current CTC?\"\n",
    "\"My current CTC is 4 LPA. However, over the last 2 years I have transitioned into \n",
    "Data Science and AI/ML, delivered end-to-end ML pipelines at Capgemini, and am now \n",
    "pursuing an M.Tech in DSML at PES University. \n",
    "Considering my skills in Machine Learning, GenAI, deployment, and project experience, \n",
    "I am targeting roles in the 15–18 LPA range in product-based companies.\"\n",
    "\n",
    "When asked: \"That’s a big jump from your current salary, why?\"\n",
    "\"Yes, I understand it’s a significant jump. \n",
    "But my current package does not reflect my present skill set and market standards. \n",
    "In the last 2 years, I’ve built scalable ML solutions, worked on GenAI applications \n",
    "like recommendation systems and AI teaching assistants, and contributed to hackathons \n",
    "using cloud and modern AI tools. \n",
    "Given the demand for these skills, I believe 15–18 LPA is a fair market alignment.\"\n"
   ]
  },
  {
   "cell_type": "markdown",
   "id": "66a2ec17",
   "metadata": {},
   "source": []
  }
 ],
 "metadata": {
  "language_info": {
   "name": "python"
  }
 },
 "nbformat": 4,
 "nbformat_minor": 5
}
